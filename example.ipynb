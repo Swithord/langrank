{
 "cells": [
  {
   "cell_type": "code",
   "execution_count": 4,
   "id": "85801c45",
   "metadata": {},
   "outputs": [],
   "source": [
    "from evaluator import *"
   ]
  },
  {
   "cell_type": "code",
   "execution_count": 5,
   "id": "db820d45",
   "metadata": {},
   "outputs": [],
   "source": [
    "FILE = 'data/imputed_ant_phi_100.csv'    # Dataset to evalulate"
   ]
  },
  {
   "cell_type": "code",
   "execution_count": 6,
   "id": "3e32f9a6",
   "metadata": {},
   "outputs": [],
   "source": [
    "# Create calculators using the data\n",
    "calculators: dict[str, DistanceCalculator] = {\n",
    "    'syntactic': create_syntactic_calculator(FILE),\n",
    "    'morphological': create_morphological_calculator(FILE),\n",
    "    'inventory': create_inventory_calculator(FILE),\n",
    "    'phonological': create_phonological_calculator(FILE),\n",
    "    'featural': create_featural_calculator(FILE)\n",
    "}\n",
    "\n",
    "# Define features to be used in the evaluation\n",
    "features: list[str] = [\n",
    "    'syntactic', \n",
    "    'inventory', \n",
    "    'phonological',\n",
    "    'featural',\n",
    "    'morphological'\n",
    "]\n",
    "\n",
    "# Define tasks with their evaluation metrics and whether they need to be converted from ISO code to glottocode\n",
    "tasks: dict[str, tuple[str, bool]] = {\n",
    "    'mt': ('BLEU', True),\n",
    "    'dep': ('accuracy', True),\n",
    "    'el': ('accuracy', True),\n",
    "    'pos': ('accuracy', True),\n",
    "    'taxi1500': ('f1_score', False),\n",
    "}"
   ]
  },
  {
   "cell_type": "code",
   "execution_count": 7,
   "id": "initial_id",
   "metadata": {
    "ExecuteTime": {
     "end_time": "2025-07-22T20:53:28.025499Z",
     "start_time": "2025-07-22T20:53:24.096536Z"
    },
    "collapsed": true
   },
   "outputs": [],
   "source": [
    "# Create the evaluator with the calculators\n",
    "evaluator = LangRankEvaluator(\n",
    "    calculators = calculators,\n",
    "    iso_map_file = 'data/code_mapping.csv'\n",
    ")"
   ]
  },
  {
   "cell_type": "code",
   "execution_count": 8,
   "id": "a490d628dbf7ec7a",
   "metadata": {
    "ExecuteTime": {
     "end_time": "2025-07-22T20:56:03.357739Z",
     "start_time": "2025-07-22T20:53:29.454868Z"
    }
   },
   "outputs": [
    {
     "name": "stdout",
     "output_type": "stream",
     "text": [
      "Task: mt NDCG: 30.721582366789193\n",
      "Task: dep NDCG: 73.41818968516507\n",
      "Task: el NDCG: 60.35768790909402\n",
      "Task: pos NDCG: 16.58458584715933\n",
      "Task: taxi1500 NDCG: 29.293423821714203\n"
     ]
    }
   ],
   "source": [
    "# \n",
    "for task in tasks:\n",
    "    df = evaluator.replace_distances(\n",
    "        dataset_path = f'data/{task}.csv', # path to the task dataset (the one containing columns for task lang, transfer lang, performance)\n",
    "        distance_types = features, # list of distance types to replace in the dataset. these should match the keys of the dict passed into the evaluator.\n",
    "        iso_conversion = tasks[task][1] # indicate whether to convert lang codes in your dataset from ISO to Glottocode using the file in self.iso_map_file\n",
    "    )\n",
    "    # run LangRank and evaluate task performance\n",
    "    score = evaluator.evaluate(\n",
    "        data = df,\n",
    "        features = features + ['geographic', 'genetic'], # list of columns in the dataset CSV to use for evaluation\n",
    "        performance_col_name = tasks[task][0], # name of the column in the dataset CSV containing task performance scores\n",
    "    )\n",
    "    print(f'Task: {task} NDCG: {score}')"
   ]
  }
 ],
 "metadata": {
  "kernelspec": {
   "display_name": "Python 3",
   "language": "python",
   "name": "python3"
  },
  "language_info": {
   "codemirror_mode": {
    "name": "ipython",
    "version": 3
   },
   "file_extension": ".py",
   "mimetype": "text/x-python",
   "name": "python",
   "nbconvert_exporter": "python",
   "pygments_lexer": "ipython3",
   "version": "3.10.7"
  }
 },
 "nbformat": 4,
 "nbformat_minor": 5
}
