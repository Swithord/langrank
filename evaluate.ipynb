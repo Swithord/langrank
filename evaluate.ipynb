{
 "cells": [
  {
   "cell_type": "code",
   "execution_count": 1,
   "id": "732415da01c3a4be",
   "metadata": {
    "ExecuteTime": {
     "end_time": "2025-08-06T16:28:47.001019Z",
     "start_time": "2025-08-06T16:28:38.084379Z"
    }
   },
   "outputs": [
    {
     "name": "stderr",
     "output_type": "stream",
     "text": [
      "c:\\Users\\jbnou\\Documents\\L3 Lab\\langrank\\evaluator.py:21: UserWarning: pkg_resources is deprecated as an API. See https://setuptools.pypa.io/en/latest/pkg_resources.html. The pkg_resources package is slated for removal as early as 2025-11-30. Refrain from using this package or pin to Setuptools<81.\n",
      "  import pkg_resources\n"
     ]
    }
   ],
   "source": [
    "import pandas as pd\n",
    "from evaluator import SyntacticCalculator, MorphologicalCalculator, InventoryCalculator, PhonologicalCalculator, FeaturalCalculator, GenericCalculator, LangRankEvaluator, IslandCalculator, GeographicCalculator, URIELCalculator"
   ]
  },
  {
   "cell_type": "code",
   "execution_count": null,
   "id": "initial_id",
   "metadata": {
    "ExecuteTime": {
     "end_time": "2025-08-06T17:55:05.571866Z",
     "start_time": "2025-08-06T17:54:57.200884Z"
    },
    "collapsed": true
   },
   "outputs": [],
   "source": [
    "# Load data files as DataFrames\n",
    "import pandas as pd\n",
    "\n",
    "scriptural_df = pd.read_csv('data/URIEL_Scriptural.csv', index_col=0)\n",
    "islands_df = pd.read_csv('data/URIELPlus_Union_SoftImpute.csv', index_col=0)\n",
    "phylogeny_df = pd.read_csv('data/URIEL_Phylogeny.csv', index_col=0)\n",
    "geography_df = pd.read_csv('data/URIEL_Geography.csv', index_col=0)\n",
    "typological_df = pd.read_csv('data/URIELPlus_Union.csv', index_col=0)\n",
    "\n",
    "# Initialize calculators with DataFrames\n",
    "script = GenericCalculator(scriptural_df)\n",
    "islands = IslandCalculator(islands_df)\n",
    "distribution_geo = GeographicCalculator(1)\n",
    "\n",
    "gen = GenericCalculator(phylogeny_df)\n",
    "geo = GenericCalculator(geography_df)\n",
    "syn = SyntacticCalculator(typological_df)\n",
    "morph = MorphologicalCalculator(typological_df)\n",
    "inv = InventoryCalculator(typological_df)\n",
    "phon = PhonologicalCalculator(typological_df)\n",
    "feat = FeaturalCalculator(typological_df)\n",
    "\n",
    "# gen = URIELCalculator(dist='genetic')\n",
    "# geo = URIELCalculator(dist='geographic')\n",
    "# syn = URIELCalculator(dist='syntactic')\n",
    "# inv = URIELCalculator(dist='inventory')\n",
    "# phon = URIELCalculator(dist='phonological')\n",
    "# feat = URIELCalculator(dist='featural')\n",
    "\n",
    "evaluator = LangRankEvaluator(\n",
    "    calculators={\n",
    "    'syntactic': syn,\n",
    "    'morphological': morph,\n",
    "    'inventory': inv,\n",
    "    'phonological': phon,\n",
    "    'featural': feat,\n",
    "    'scriptural': script,\n",
    "    'islands': islands,\n",
    "    'new_geographic': distribution_geo, # do not change the name \"new_geographic\"\n",
    "    'geographic': geo,\n",
    "    'genetic': gen,\n",
    "    },\n",
    "    iso_map_file='data/code_mapping.csv', # path to the ISO to Glottocode mapping file\n",
    ")"
   ]
  },
  {
   "cell_type": "code",
   "execution_count": 3,
   "id": "4f71ed1428876cf8",
   "metadata": {
    "ExecuteTime": {
     "end_time": "2025-08-06T17:55:05.610774Z",
     "start_time": "2025-08-06T17:55:05.606494Z"
    }
   },
   "outputs": [],
   "source": [
    "baseline_ndcg = {\n",
    "    'mt': [],\n",
    "    'dep': [],\n",
    "    'el': [],\n",
    "    'pos': [],\n",
    "    'taxi1500': [],\n",
    "    'xnli': []\n",
    "}"
   ]
  },
  {
   "cell_type": "code",
   "execution_count": null,
   "id": "a490d628dbf7ec7a",
   "metadata": {
    "ExecuteTime": {
     "end_time": "2025-08-06T18:02:44.046714Z",
     "start_time": "2025-08-06T17:55:05.635180Z"
    }
   },
   "outputs": [
    {
     "name": "stderr",
     "output_type": "stream",
     "text": [
      "0it [00:00, ?it/s]"
     ]
    },
    {
     "name": "stderr",
     "output_type": "stream",
     "text": [
      "2862it [00:16, 177.63it/s]\n",
      "\n"
     ]
    },
    {
     "name": "stdout",
     "output_type": "stream",
     "text": [
      "Task: mt NDCG: 30.923161574748253\n"
     ]
    },
    {
     "name": "stderr",
     "output_type": "stream",
     "text": [
      "870it [00:03, 237.99it/s]\n",
      "\n"
     ]
    },
    {
     "name": "stdout",
     "output_type": "stream",
     "text": [
      "Task: dep NDCG: 72.80298281709919\n"
     ]
    },
    {
     "name": "stderr",
     "output_type": "stream",
     "text": [
      "477it [00:02, 230.78it/s]\n",
      "477it [00:02, 230.78it/s]\n"
     ]
    },
    {
     "name": "stdout",
     "output_type": "stream",
     "text": [
      "Task: el NDCG: 65.83247072894687\n"
     ]
    },
    {
     "name": "stderr",
     "output_type": "stream",
     "text": [
      "1545it [00:07, 196.65it/s]\n",
      "\n"
     ]
    },
    {
     "name": "stdout",
     "output_type": "stream",
     "text": [
      "Task: pos NDCG: 22.399150587343524\n"
     ]
    },
    {
     "name": "stderr",
     "output_type": "stream",
     "text": [
      "26334it [01:44, 252.06it/s]\n",
      "\n"
     ]
    },
    {
     "name": "stdout",
     "output_type": "stream",
     "text": [
      "Task: taxi1500 NDCG: 22.552406960492387\n"
     ]
    },
    {
     "name": "stderr",
     "output_type": "stream",
     "text": [
      "225it [00:01, 213.75it/s]\n",
      "\n"
     ]
    },
    {
     "name": "stdout",
     "output_type": "stream",
     "text": [
      "Task: xnli NDCG: 70.64718813913777\n"
     ]
    }
   ],
   "source": [
    "is_baseline = True # set to True to store the result in baseline_ndcg, which, when passed in the baseline_ndcg_scores parameter in future runs, will give us a p-value\n",
    "features = ['syntactic', 'phonological', 'inventory', 'featural', 'geographic', 'genetic']  \n",
    "features += ['morphological']\n",
    "# features += ['scriptural']\n",
    "# features += ['islands']\n",
    "task_col_name = 'task_lang'\n",
    "transfer_col_name = 'transfer_lang'\n",
    "\n",
    "tasks = {\n",
    "    'mt': ('BLEU', True),\n",
    "    'dep': ('accuracy', True),\n",
    "    'el': ('accuracy', True),\n",
    "    'pos': ('accuracy', True),\n",
    "    'taxi1500': ('f1_score', False),\n",
    "    'xnli': ('accuracy', False),\n",
    "}\n",
    "\n",
    "for task in tasks:\n",
    "    # Replace/add distances in the task data using the calculators\n",
    "    task_data_with_distances = evaluator.replace_distances(\n",
    "        data_file=f'data/{task}.csv', # Path to CSV file containing task, transfer, and performance columns\n",
    "        distance_types=features, # list of distance types to replace in the dataset. these should match the keys of the dict passed into the evaluator.\n",
    "        task_col_name=task_col_name, # name of the task language column in your dataset\n",
    "        transfer_col_name=transfer_col_name, # name of the transfer language column in your dataset\n",
    "        iso_conversion=tasks[task][1] # indicate whether to convert lang codes in your dataset from ISO to Glottocode using the file in self.iso_map_file\n",
    "    )\n",
    "    \n",
    "    # Run LangRank and evaluate task performance\n",
    "    score = evaluator.evaluate(\n",
    "        data=task_data_with_distances, # DataFrame with distance columns added\n",
    "        features=features, # list of columns in the dataset DataFrame to use for evaluation\n",
    "        performance_col_name=tasks[task][0], # name of the column in the dataset DataFrame containing task performance scores\n",
    "        task_col_name=task_col_name,\n",
    "        transfer_col_name=transfer_col_name,\n",
    "        baseline_ndcg_scores=baseline_ndcg[task], # list of baseline NDCG scores for the task\n",
    "    )\n",
    "    \n",
    "    if is_baseline:\n",
    "        baseline_ndcg[task] = score[1]\n",
    "        print(f'Task: {task} NDCG: {score[0]}')\n",
    "    else:\n",
    "        print(f'Task: {task} NDCG: {score[0]} (p-value: {score[2]})')"
   ]
  }
 ],
 "metadata": {
  "kernelspec": {
   "display_name": "Python 3",
   "language": "python",
   "name": "python3"
  },
  "language_info": {
   "codemirror_mode": {
    "name": "ipython",
    "version": 3
   },
   "file_extension": ".py",
   "mimetype": "text/x-python",
   "name": "python",
   "nbconvert_exporter": "python",
   "pygments_lexer": "ipython3",
   "version": "3.10.11"
  }
 },
 "nbformat": 4,
 "nbformat_minor": 5
}
