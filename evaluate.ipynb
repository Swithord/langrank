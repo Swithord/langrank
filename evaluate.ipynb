{
 "cells": [
  {
   "cell_type": "code",
   "execution_count": 27,
   "id": "5a014e88",
   "metadata": {},
   "outputs": [
    {
     "name": "stdout",
     "output_type": "stream",
     "text": [
      "Defaulting to user installation because normal site-packages is not writeable\n",
      "Requirement already satisfied: urielplus in /Library/Frameworks/Python.framework/Versions/3.11/lib/python3.11/site-packages (1.1)\n",
      "Requirement already satisfied: numpy>=1.26.1 in /Users/matteosalloum/Library/Python/3.11/lib/python/site-packages (from urielplus) (2.1.3)\n",
      "Requirement already satisfied: tensorflow>=2.11.1 in /Users/matteosalloum/Library/Python/3.11/lib/python/site-packages (from urielplus) (2.19.0)\n",
      "Requirement already satisfied: tensorflow-addons>=0.19 in /Users/matteosalloum/Library/Python/3.11/lib/python/site-packages (from urielplus) (0.23.0)\n",
      "Requirement already satisfied: scikit-learn>=1.5.1 in /Users/matteosalloum/Library/Python/3.11/lib/python/site-packages (from urielplus) (1.7.0)\n",
      "Requirement already satisfied: scipy>=1.14.1 in /Users/matteosalloum/Library/Python/3.11/lib/python/site-packages (from urielplus) (1.16.0)\n",
      "Requirement already satisfied: pandas>=2.2.2 in /Users/matteosalloum/Library/Python/3.11/lib/python/site-packages (from urielplus) (2.3.1)\n",
      "Requirement already satisfied: contexttimer>=0.3.3 in /Users/matteosalloum/Library/Python/3.11/lib/python/site-packages (from urielplus) (0.3.3)\n",
      "Requirement already satisfied: fancyimpute>=0.7.0 in /Library/Frameworks/Python.framework/Versions/3.11/lib/python3.11/site-packages (from urielplus) (0.7.0)\n",
      "Requirement already satisfied: joblib>=1.4.2 in /Users/matteosalloum/Library/Python/3.11/lib/python/site-packages (from urielplus) (1.5.1)\n",
      "Requirement already satisfied: setuptools>=68.2.0 in /Library/Frameworks/Python.framework/Versions/3.11/lib/python3.11/site-packages (from urielplus) (80.9.0)\n",
      "Requirement already satisfied: pyproj>=3.7.1 in /Library/Frameworks/Python.framework/Versions/3.11/lib/python3.11/site-packages (from urielplus) (3.7.1)\n",
      "Requirement already satisfied: POT>=0.8.0 in /Library/Frameworks/Python.framework/Versions/3.11/lib/python3.11/site-packages (from urielplus) (0.9.5)\n",
      "Requirement already satisfied: knnimpute>=0.1.0 in /Library/Frameworks/Python.framework/Versions/3.11/lib/python3.11/site-packages (from fancyimpute>=0.7.0->urielplus) (0.1.0)\n",
      "Requirement already satisfied: cvxpy in /Library/Frameworks/Python.framework/Versions/3.11/lib/python3.11/site-packages (from fancyimpute>=0.7.0->urielplus) (1.6.6)\n",
      "Requirement already satisfied: cvxopt in /Library/Frameworks/Python.framework/Versions/3.11/lib/python3.11/site-packages (from fancyimpute>=0.7.0->urielplus) (1.3.2)\n",
      "Requirement already satisfied: pytest in /Library/Frameworks/Python.framework/Versions/3.11/lib/python3.11/site-packages (from fancyimpute>=0.7.0->urielplus) (8.4.1)\n",
      "Requirement already satisfied: nose in /Library/Frameworks/Python.framework/Versions/3.11/lib/python3.11/site-packages (from fancyimpute>=0.7.0->urielplus) (1.3.7)\n",
      "Requirement already satisfied: six in /Users/matteosalloum/Library/Python/3.11/lib/python/site-packages (from knnimpute>=0.1.0->fancyimpute>=0.7.0->urielplus) (1.17.0)\n",
      "Requirement already satisfied: python-dateutil>=2.8.2 in /Users/matteosalloum/Library/Python/3.11/lib/python/site-packages (from pandas>=2.2.2->urielplus) (2.9.0.post0)\n",
      "Requirement already satisfied: pytz>=2020.1 in /Users/matteosalloum/Library/Python/3.11/lib/python/site-packages (from pandas>=2.2.2->urielplus) (2025.2)\n",
      "Requirement already satisfied: tzdata>=2022.7 in /Users/matteosalloum/Library/Python/3.11/lib/python/site-packages (from pandas>=2.2.2->urielplus) (2025.2)\n",
      "Requirement already satisfied: certifi in /Library/Frameworks/Python.framework/Versions/3.11/lib/python3.11/site-packages (from pyproj>=3.7.1->urielplus) (2025.6.15)\n",
      "Requirement already satisfied: threadpoolctl>=3.1.0 in /Users/matteosalloum/Library/Python/3.11/lib/python/site-packages (from scikit-learn>=1.5.1->urielplus) (3.6.0)\n",
      "Requirement already satisfied: absl-py>=1.0.0 in /Users/matteosalloum/Library/Python/3.11/lib/python/site-packages (from tensorflow>=2.11.1->urielplus) (2.3.1)\n",
      "Requirement already satisfied: astunparse>=1.6.0 in /Users/matteosalloum/Library/Python/3.11/lib/python/site-packages (from tensorflow>=2.11.1->urielplus) (1.6.3)\n",
      "Requirement already satisfied: flatbuffers>=24.3.25 in /Users/matteosalloum/Library/Python/3.11/lib/python/site-packages (from tensorflow>=2.11.1->urielplus) (25.2.10)\n",
      "Requirement already satisfied: gast!=0.5.0,!=0.5.1,!=0.5.2,>=0.2.1 in /Users/matteosalloum/Library/Python/3.11/lib/python/site-packages (from tensorflow>=2.11.1->urielplus) (0.6.0)\n",
      "Requirement already satisfied: google-pasta>=0.1.1 in /Users/matteosalloum/Library/Python/3.11/lib/python/site-packages (from tensorflow>=2.11.1->urielplus) (0.2.0)\n",
      "Requirement already satisfied: libclang>=13.0.0 in /Users/matteosalloum/Library/Python/3.11/lib/python/site-packages (from tensorflow>=2.11.1->urielplus) (18.1.1)\n",
      "Requirement already satisfied: opt-einsum>=2.3.2 in /Users/matteosalloum/Library/Python/3.11/lib/python/site-packages (from tensorflow>=2.11.1->urielplus) (3.4.0)\n",
      "Requirement already satisfied: packaging in /Users/matteosalloum/Library/Python/3.11/lib/python/site-packages (from tensorflow>=2.11.1->urielplus) (25.0)\n",
      "Requirement already satisfied: protobuf!=4.21.0,!=4.21.1,!=4.21.2,!=4.21.3,!=4.21.4,!=4.21.5,<6.0.0dev,>=3.20.3 in /Library/Frameworks/Python.framework/Versions/3.11/lib/python3.11/site-packages (from tensorflow>=2.11.1->urielplus) (4.21.12)\n",
      "Requirement already satisfied: requests<3,>=2.21.0 in /Users/matteosalloum/Library/Python/3.11/lib/python/site-packages (from tensorflow>=2.11.1->urielplus) (2.32.4)\n",
      "Requirement already satisfied: termcolor>=1.1.0 in /Users/matteosalloum/Library/Python/3.11/lib/python/site-packages (from tensorflow>=2.11.1->urielplus) (3.1.0)\n",
      "Requirement already satisfied: typing-extensions>=3.6.6 in /Users/matteosalloum/Library/Python/3.11/lib/python/site-packages (from tensorflow>=2.11.1->urielplus) (4.12.2)\n",
      "Requirement already satisfied: wrapt>=1.11.0 in /Users/matteosalloum/Library/Python/3.11/lib/python/site-packages (from tensorflow>=2.11.1->urielplus) (1.15.0)\n",
      "Requirement already satisfied: grpcio<2.0,>=1.24.3 in /Users/matteosalloum/Library/Python/3.11/lib/python/site-packages (from tensorflow>=2.11.1->urielplus) (1.73.1)\n",
      "Requirement already satisfied: tensorboard~=2.19.0 in /Users/matteosalloum/Library/Python/3.11/lib/python/site-packages (from tensorflow>=2.11.1->urielplus) (2.19.0)\n",
      "Requirement already satisfied: keras>=3.5.0 in /Users/matteosalloum/Library/Python/3.11/lib/python/site-packages (from tensorflow>=2.11.1->urielplus) (3.10.0)\n",
      "Requirement already satisfied: h5py>=3.11.0 in /Users/matteosalloum/Library/Python/3.11/lib/python/site-packages (from tensorflow>=2.11.1->urielplus) (3.14.0)\n",
      "Requirement already satisfied: ml-dtypes<1.0.0,>=0.5.1 in /Users/matteosalloum/Library/Python/3.11/lib/python/site-packages (from tensorflow>=2.11.1->urielplus) (0.5.1)\n",
      "Requirement already satisfied: tensorflow-io-gcs-filesystem>=0.23.1 in /Users/matteosalloum/Library/Python/3.11/lib/python/site-packages (from tensorflow>=2.11.1->urielplus) (0.37.1)\n",
      "Requirement already satisfied: charset_normalizer<4,>=2 in /Users/matteosalloum/Library/Python/3.11/lib/python/site-packages (from requests<3,>=2.21.0->tensorflow>=2.11.1->urielplus) (3.4.2)\n",
      "Requirement already satisfied: idna<4,>=2.5 in /Users/matteosalloum/Library/Python/3.11/lib/python/site-packages (from requests<3,>=2.21.0->tensorflow>=2.11.1->urielplus) (3.10)\n",
      "Requirement already satisfied: urllib3<3,>=1.21.1 in /Users/matteosalloum/Library/Python/3.11/lib/python/site-packages (from requests<3,>=2.21.0->tensorflow>=2.11.1->urielplus) (2.5.0)\n",
      "Requirement already satisfied: markdown>=2.6.8 in /Users/matteosalloum/Library/Python/3.11/lib/python/site-packages (from tensorboard~=2.19.0->tensorflow>=2.11.1->urielplus) (3.8.2)\n",
      "Requirement already satisfied: tensorboard-data-server<0.8.0,>=0.7.0 in /Users/matteosalloum/Library/Python/3.11/lib/python/site-packages (from tensorboard~=2.19.0->tensorflow>=2.11.1->urielplus) (0.7.2)\n",
      "Requirement already satisfied: werkzeug>=1.0.1 in /Users/matteosalloum/Library/Python/3.11/lib/python/site-packages (from tensorboard~=2.19.0->tensorflow>=2.11.1->urielplus) (3.1.3)\n",
      "Requirement already satisfied: wheel<1.0,>=0.23.0 in /Users/matteosalloum/Library/Python/3.11/lib/python/site-packages (from astunparse>=1.6.0->tensorflow>=2.11.1->urielplus) (0.45.1)\n",
      "Requirement already satisfied: rich in /Users/matteosalloum/Library/Python/3.11/lib/python/site-packages (from keras>=3.5.0->tensorflow>=2.11.1->urielplus) (14.0.0)\n",
      "Requirement already satisfied: namex in /Users/matteosalloum/Library/Python/3.11/lib/python/site-packages (from keras>=3.5.0->tensorflow>=2.11.1->urielplus) (0.1.0)\n",
      "Requirement already satisfied: optree in /Users/matteosalloum/Library/Python/3.11/lib/python/site-packages (from keras>=3.5.0->tensorflow>=2.11.1->urielplus) (0.16.0)\n",
      "Requirement already satisfied: typeguard<3.0.0,>=2.7 in /Users/matteosalloum/Library/Python/3.11/lib/python/site-packages (from tensorflow-addons>=0.19->urielplus) (2.13.3)\n",
      "Requirement already satisfied: MarkupSafe>=2.1.1 in /Library/Frameworks/Python.framework/Versions/3.11/lib/python3.11/site-packages (from werkzeug>=1.0.1->tensorboard~=2.19.0->tensorflow>=2.11.1->urielplus) (3.0.2)\n",
      "Requirement already satisfied: osqp>=0.6.2 in /Library/Frameworks/Python.framework/Versions/3.11/lib/python3.11/site-packages (from cvxpy->fancyimpute>=0.7.0->urielplus) (1.0.4)\n",
      "Requirement already satisfied: clarabel>=0.5.0 in /Library/Frameworks/Python.framework/Versions/3.11/lib/python3.11/site-packages (from cvxpy->fancyimpute>=0.7.0->urielplus) (0.11.1)\n",
      "Requirement already satisfied: scs>=3.2.4.post1 in /Library/Frameworks/Python.framework/Versions/3.11/lib/python3.11/site-packages (from cvxpy->fancyimpute>=0.7.0->urielplus) (3.2.7.post2)\n",
      "Requirement already satisfied: cffi in /Library/Frameworks/Python.framework/Versions/3.11/lib/python3.11/site-packages (from clarabel>=0.5.0->cvxpy->fancyimpute>=0.7.0->urielplus) (1.17.1)\n",
      "Requirement already satisfied: jinja2 in /Library/Frameworks/Python.framework/Versions/3.11/lib/python3.11/site-packages (from osqp>=0.6.2->cvxpy->fancyimpute>=0.7.0->urielplus) (3.1.6)\n",
      "Requirement already satisfied: pycparser in /Library/Frameworks/Python.framework/Versions/3.11/lib/python3.11/site-packages (from cffi->clarabel>=0.5.0->cvxpy->fancyimpute>=0.7.0->urielplus) (2.22)\n",
      "Requirement already satisfied: iniconfig>=1 in /Library/Frameworks/Python.framework/Versions/3.11/lib/python3.11/site-packages (from pytest->fancyimpute>=0.7.0->urielplus) (2.1.0)\n",
      "Requirement already satisfied: pluggy<2,>=1.5 in /Library/Frameworks/Python.framework/Versions/3.11/lib/python3.11/site-packages (from pytest->fancyimpute>=0.7.0->urielplus) (1.6.0)\n",
      "Requirement already satisfied: pygments>=2.7.2 in /Library/Frameworks/Python.framework/Versions/3.11/lib/python3.11/site-packages (from pytest->fancyimpute>=0.7.0->urielplus) (2.19.2)\n",
      "Requirement already satisfied: markdown-it-py>=2.2.0 in /Users/matteosalloum/Library/Python/3.11/lib/python/site-packages (from rich->keras>=3.5.0->tensorflow>=2.11.1->urielplus) (3.0.0)\n",
      "Requirement already satisfied: mdurl~=0.1 in /Users/matteosalloum/Library/Python/3.11/lib/python/site-packages (from markdown-it-py>=2.2.0->rich->keras>=3.5.0->tensorflow>=2.11.1->urielplus) (0.1.2)\n",
      "\n",
      "\u001b[1m[\u001b[0m\u001b[34;49mnotice\u001b[0m\u001b[1;39;49m]\u001b[0m\u001b[39;49m A new release of pip is available: \u001b[0m\u001b[31;49m25.1.1\u001b[0m\u001b[39;49m -> \u001b[0m\u001b[32;49m25.2\u001b[0m\n",
      "\u001b[1m[\u001b[0m\u001b[34;49mnotice\u001b[0m\u001b[1;39;49m]\u001b[0m\u001b[39;49m To update, run: \u001b[0m\u001b[32;49mpip3.11 install --upgrade pip\u001b[0m\n",
      "Note: you may need to restart the kernel to use updated packages.\n"
     ]
    }
   ],
   "source": [
    "pip install urielplus"
   ]
  },
  {
   "cell_type": "code",
   "execution_count": 32,
   "id": "22980954",
   "metadata": {},
   "outputs": [
    {
     "name": "stdout",
     "output_type": "stream",
     "text": [
      "Defaulting to user installation because normal site-packages is not writeable\n",
      "Requirement already satisfied: torch in /Users/matteosalloum/Library/Python/3.11/lib/python/site-packages (2.7.1)\n",
      "Requirement already satisfied: filelock in /Users/matteosalloum/Library/Python/3.11/lib/python/site-packages (from torch) (3.18.0)\n",
      "Requirement already satisfied: typing-extensions>=4.10.0 in /Users/matteosalloum/Library/Python/3.11/lib/python/site-packages (from torch) (4.12.2)\n",
      "Requirement already satisfied: sympy>=1.13.3 in /Users/matteosalloum/Library/Python/3.11/lib/python/site-packages (from torch) (1.14.0)\n",
      "Requirement already satisfied: networkx in /Users/matteosalloum/Library/Python/3.11/lib/python/site-packages (from torch) (3.5)\n",
      "Requirement already satisfied: jinja2 in /Library/Frameworks/Python.framework/Versions/3.11/lib/python3.11/site-packages (from torch) (3.1.6)\n",
      "Requirement already satisfied: fsspec in /Users/matteosalloum/Library/Python/3.11/lib/python/site-packages (from torch) (2025.7.0)\n",
      "Requirement already satisfied: mpmath<1.4,>=1.1.0 in /Users/matteosalloum/Library/Python/3.11/lib/python/site-packages (from sympy>=1.13.3->torch) (1.3.0)\n",
      "Requirement already satisfied: MarkupSafe>=2.0 in /Library/Frameworks/Python.framework/Versions/3.11/lib/python3.11/site-packages (from jinja2->torch) (3.0.2)\n",
      "\n",
      "\u001b[1m[\u001b[0m\u001b[34;49mnotice\u001b[0m\u001b[1;39;49m]\u001b[0m\u001b[39;49m A new release of pip is available: \u001b[0m\u001b[31;49m25.1.1\u001b[0m\u001b[39;49m -> \u001b[0m\u001b[32;49m25.2\u001b[0m\n",
      "\u001b[1m[\u001b[0m\u001b[34;49mnotice\u001b[0m\u001b[1;39;49m]\u001b[0m\u001b[39;49m To update, run: \u001b[0m\u001b[32;49mpip3.11 install --upgrade pip\u001b[0m\n",
      "Note: you may need to restart the kernel to use updated packages.\n"
     ]
    }
   ],
   "source": [
    "pip install torch\n"
   ]
  },
  {
   "cell_type": "code",
   "execution_count": 33,
   "id": "f6d4d170",
   "metadata": {},
   "outputs": [
    {
     "name": "stdout",
     "output_type": "stream",
     "text": [
      "Defaulting to user installation because normal site-packages is not writeable\n",
      "Collecting torchvision\n",
      "  Downloading torchvision-0.22.1-cp311-cp311-macosx_11_0_arm64.whl.metadata (6.1 kB)\n",
      "Requirement already satisfied: numpy in /Users/matteosalloum/Library/Python/3.11/lib/python/site-packages (from torchvision) (2.1.3)\n",
      "Requirement already satisfied: torch==2.7.1 in /Users/matteosalloum/Library/Python/3.11/lib/python/site-packages (from torchvision) (2.7.1)\n",
      "Requirement already satisfied: pillow!=8.3.*,>=5.3.0 in /Users/matteosalloum/Library/Python/3.11/lib/python/site-packages (from torchvision) (11.3.0)\n",
      "Requirement already satisfied: filelock in /Users/matteosalloum/Library/Python/3.11/lib/python/site-packages (from torch==2.7.1->torchvision) (3.18.0)\n",
      "Requirement already satisfied: typing-extensions>=4.10.0 in /Users/matteosalloum/Library/Python/3.11/lib/python/site-packages (from torch==2.7.1->torchvision) (4.12.2)\n",
      "Requirement already satisfied: sympy>=1.13.3 in /Users/matteosalloum/Library/Python/3.11/lib/python/site-packages (from torch==2.7.1->torchvision) (1.14.0)\n",
      "Requirement already satisfied: networkx in /Users/matteosalloum/Library/Python/3.11/lib/python/site-packages (from torch==2.7.1->torchvision) (3.5)\n",
      "Requirement already satisfied: jinja2 in /Library/Frameworks/Python.framework/Versions/3.11/lib/python3.11/site-packages (from torch==2.7.1->torchvision) (3.1.6)\n",
      "Requirement already satisfied: fsspec in /Users/matteosalloum/Library/Python/3.11/lib/python/site-packages (from torch==2.7.1->torchvision) (2025.7.0)\n",
      "Requirement already satisfied: mpmath<1.4,>=1.1.0 in /Users/matteosalloum/Library/Python/3.11/lib/python/site-packages (from sympy>=1.13.3->torch==2.7.1->torchvision) (1.3.0)\n",
      "Requirement already satisfied: MarkupSafe>=2.0 in /Library/Frameworks/Python.framework/Versions/3.11/lib/python3.11/site-packages (from jinja2->torch==2.7.1->torchvision) (3.0.2)\n",
      "Downloading torchvision-0.22.1-cp311-cp311-macosx_11_0_arm64.whl (1.9 MB)\n",
      "\u001b[2K   \u001b[90m━━━━━━━━━━━━━━━━━━━━━━━━━━━━━━━━━━━━━━━━\u001b[0m \u001b[32m1.9/1.9 MB\u001b[0m \u001b[31m32.0 MB/s\u001b[0m eta \u001b[36m0:00:00\u001b[0m\n",
      "\u001b[?25hInstalling collected packages: torchvision\n",
      "Successfully installed torchvision-0.22.1\n",
      "\n",
      "\u001b[1m[\u001b[0m\u001b[34;49mnotice\u001b[0m\u001b[1;39;49m]\u001b[0m\u001b[39;49m A new release of pip is available: \u001b[0m\u001b[31;49m25.1.1\u001b[0m\u001b[39;49m -> \u001b[0m\u001b[32;49m25.2\u001b[0m\n",
      "\u001b[1m[\u001b[0m\u001b[34;49mnotice\u001b[0m\u001b[1;39;49m]\u001b[0m\u001b[39;49m To update, run: \u001b[0m\u001b[32;49mpip3.11 install --upgrade pip\u001b[0m\n",
      "Note: you may need to restart the kernel to use updated packages.\n"
     ]
    }
   ],
   "source": [
    "pip install torchvision"
   ]
  },
  {
   "cell_type": "code",
   "execution_count": 39,
   "id": "a64f7e16",
   "metadata": {},
   "outputs": [
    {
     "name": "stdout",
     "output_type": "stream",
     "text": [
      "Defaulting to user installation because normal site-packages is not writeable\n",
      "Collecting torchsummary\n",
      "  Downloading torchsummary-1.5.1-py3-none-any.whl.metadata (296 bytes)\n",
      "Downloading torchsummary-1.5.1-py3-none-any.whl (2.8 kB)\n",
      "Installing collected packages: torchsummary\n",
      "Successfully installed torchsummary-1.5.1\n",
      "\n",
      "\u001b[1m[\u001b[0m\u001b[34;49mnotice\u001b[0m\u001b[1;39;49m]\u001b[0m\u001b[39;49m A new release of pip is available: \u001b[0m\u001b[31;49m25.1.1\u001b[0m\u001b[39;49m -> \u001b[0m\u001b[32;49m25.2\u001b[0m\n",
      "\u001b[1m[\u001b[0m\u001b[34;49mnotice\u001b[0m\u001b[1;39;49m]\u001b[0m\u001b[39;49m To update, run: \u001b[0m\u001b[32;49mpip3.11 install --upgrade pip\u001b[0m\n",
      "Note: you may need to restart the kernel to use updated packages.\n"
     ]
    }
   ],
   "source": [
    "pip install torchsummary"
   ]
  },
  {
   "cell_type": "code",
   "execution_count": 42,
   "id": "eb561535",
   "metadata": {},
   "outputs": [
    {
     "name": "stdout",
     "output_type": "stream",
     "text": [
      "Defaulting to user installation because normal site-packages is not writeable\n",
      "Collecting graphviz\n",
      "  Downloading graphviz-0.21-py3-none-any.whl.metadata (12 kB)\n",
      "Downloading graphviz-0.21-py3-none-any.whl (47 kB)\n",
      "Installing collected packages: graphviz\n",
      "Successfully installed graphviz-0.21\n",
      "\n",
      "\u001b[1m[\u001b[0m\u001b[34;49mnotice\u001b[0m\u001b[1;39;49m]\u001b[0m\u001b[39;49m A new release of pip is available: \u001b[0m\u001b[31;49m25.1.1\u001b[0m\u001b[39;49m -> \u001b[0m\u001b[32;49m25.2\u001b[0m\n",
      "\u001b[1m[\u001b[0m\u001b[34;49mnotice\u001b[0m\u001b[1;39;49m]\u001b[0m\u001b[39;49m To update, run: \u001b[0m\u001b[32;49mpip3.11 install --upgrade pip\u001b[0m\n",
      "Note: you may need to restart the kernel to use updated packages.\n"
     ]
    }
   ],
   "source": [
    "pip install graphviz"
   ]
  },
  {
   "cell_type": "code",
   "execution_count": 97,
   "id": "ed1cf15d",
   "metadata": {},
   "outputs": [
    {
     "name": "stdout",
     "output_type": "stream",
     "text": [
      "File on disk: 1754396597.585598\n",
      "Loaded module: /Users/matteosalloum/Desktop/langrank/evaluator.py\n",
      "Loaded mtime : 1754396597.585598\n",
      "Has GeographicCalculator? True\n"
     ]
    }
   ],
   "source": [
    "import sys, evaluator, importlib, pathlib, inspect\n",
    "\n",
    "print(\"File on disk:\", pathlib.Path('/Users/matteosalloum/Desktop/langrank/evaluator.py').stat().st_mtime)\n",
    "print(\"Loaded module:\", evaluator.__file__)\n",
    "print(\"Loaded mtime :\", pathlib.Path(evaluator.__file__).stat().st_mtime)\n",
    "\n",
    "print(\"Has GeographicCalculator?\", hasattr(evaluator, \"GeographicCalculator\"))"
   ]
  },
  {
   "cell_type": "code",
   "execution_count": 98,
   "id": "5df2819b",
   "metadata": {},
   "outputs": [
    {
     "name": "stdout",
     "output_type": "stream",
     "text": [
      "Test\n",
      "Test1.25\n"
     ]
    }
   ],
   "source": [
    "import importlib, evaluator\n",
    "importlib.reload(evaluator)          # Jupyter / VS Code interactive\n",
    "from evaluator import GeographicCalculator"
   ]
  },
  {
   "cell_type": "code",
   "execution_count": 99,
   "id": "initial_id",
   "metadata": {
    "ExecuteTime": {
     "end_time": "2025-07-22T20:53:28.025499Z",
     "start_time": "2025-07-22T20:53:24.096536Z"
    },
    "collapsed": true
   },
   "outputs": [
    {
     "name": "stdout",
     "output_type": "stream",
     "text": [
      "Test1.5\n",
      "Test2\n",
      "Test8\n",
      "Test1.5\n",
      "Test2\n",
      "Test1.5\n",
      "Test2\n",
      "Test3\n",
      "Test1.5\n",
      "Test2\n",
      "Test7\n",
      "Test1.5\n",
      "Test2\n",
      "Test4\n",
      "Test1.5\n",
      "Test2\n",
      "Test5\n",
      "Test1.5\n",
      "Test2\n",
      "Test6\n",
      "Test1.5\n",
      "Test2\n",
      "HELLO RUNNING INTEGRATE_GEO_DATA\n",
      "Test9\n"
     ]
    }
   ],
   "source": [
    "import evaluator\n",
    "from evaluator import DistanceCalculator, SyntacticCalculator, MorphologicalCalculator, InventoryCalculator, PhonologicalCalculator, FeaturalCalculator, ScripturalCalculator, GeographicCalculator, GenericCalculator, IslandCalculator, LangRankEvaluator\n",
    "script = GenericCalculator('data/URIEL_Scriptural.csv')\n",
    "islands = IslandCalculator('data/URIELPlus_Union_SoftImpute.csv')\n",
    "# geo = GenericCalculator('data/URIEL_Geography.csv')\n",
    "# gen = GenericCalculator('data/URIEL_Phylogeny.csv')\n",
    "# typ_file = 'selection_result/imputed_laplacian_300.csv'\n",
    "typ_file = 'data/URIELPlus_Union.csv'\n",
    "syn = SyntacticCalculator(typ_file)\n",
    "morph = MorphologicalCalculator(typ_file)\n",
    "inv = InventoryCalculator(typ_file)\n",
    "phon = PhonologicalCalculator(typ_file)\n",
    "feat = FeaturalCalculator(typ_file)\n",
    "geo = GeographicCalculator(1) #Here 0 represents the basic langauge centroid style (where two mono-country languages are thought to have 0 distance. This can be changed to 1\n",
    "evaluator = LangRankEvaluator(\n",
    "    calculators={\n",
    "    'syntactic': syn,\n",
    "    'morphological': morph,\n",
    "    'inventory': inv,\n",
    "    'phonological': phon,\n",
    "    'featural': feat,\n",
    "    'scriptural': script,\n",
    "    'islands': islands,\n",
    "    'geographic': geo,\n",
    "    },\n",
    "    iso_map_file='data/code_mapping.csv', # path to the ISO to Glottocode mapping file\n",
    ")"
   ]
  },
  {
   "cell_type": "code",
   "execution_count": 100,
   "id": "6ac83f05",
   "metadata": {},
   "outputs": [],
   "source": [
    "baseline_ndcg = {\n",
    "    'mt': [],\n",
    "    'dep': [],\n",
    "    'el': [],\n",
    "    'pos': [],\n",
    "    'taxi1500': [],\n",
    "    'xnli': []\n",
    "}"
   ]
  },
  {
   "cell_type": "code",
   "execution_count": 101,
   "id": "a490d628dbf7ec7a",
   "metadata": {
    "ExecuteTime": {
     "end_time": "2025-07-22T20:56:03.357739Z",
     "start_time": "2025-07-22T20:53:29.454868Z"
    }
   },
   "outputs": [
    {
     "name": "stdout",
     "output_type": "stream",
     "text": [
      "Task: mt NDCG: 31.45504777195871\n",
      "Task: dep NDCG: 68.43418032070102\n",
      "Task: el NDCG: 68.83701170460759\n",
      "Task: pos NDCG: 13.621003532640575\n",
      "Task: taxi1500 NDCG: 25.218574388980436\n",
      "Task: xnli NDCG: 80.37092373692253\n"
     ]
    }
   ],
   "source": [
    "is_baseline = True\n",
    "features = ['syntactic', 'phonological', 'inventory', 'featural', 'geographic']\n",
    "features += ['morphological']\n",
    "features += ['scriptural']\n",
    "# features += ['islands']\n",
    "task_col_name = 'task_lang'\n",
    "transfer_col_name = 'transfer_lang'\n",
    "\n",
    "tasks = {\n",
    "    'mt': ('BLEU', True),\n",
    "    'dep': ('accuracy', True),\n",
    "    'el': ('accuracy', True),\n",
    "    'pos': ('accuracy', True),\n",
    "    'taxi1500': ('f1_score', False),\n",
    "    'xnli': ('accuracy', False),\n",
    "}\n",
    "\n",
    "for task in tasks:\n",
    "    # replace/add distances in the `distance_types` columns of the dataset CSV using the corresponding calculators passed into the evaluator.\n",
    "    evaluator.replace_distances(\n",
    "        dataset_path=f'data/{task}.csv', # path to the task dataset (the one containing columns for task lang, transfer lang, performance)\n",
    "        distance_types=features, # list of distance types to replace in the dataset. these should match the keys of the dict passed into the evaluator.\n",
    "        task_col_name=task_col_name, # name of the task language column in your dataset\n",
    "        transfer_col_name=transfer_col_name, # name of the transfer language column in your dataset\n",
    "        iso_conversion=tasks[task][1] # indicate whether to convert lang codes in your dataset from ISO to Glottocode using the file in self.iso_map_file\n",
    "    )\n",
    "    # run LangRank and evaluate task performance\n",
    "    score = evaluator.evaluate(\n",
    "        dataset_path=f'data/{task}_updated.csv',\n",
    "        features=features, # list of columns in the dataset CSV to use for evaluation\n",
    "        performance_col_name=tasks[task][0], # name of the column in the dataset CSV containing task performance scores\n",
    "        task_col_name=task_col_name,\n",
    "        transfer_col_name=transfer_col_name,\n",
    "        baseline_ndcg_scores=baseline_ndcg[task], # list of baseline NDCG scores for the task\n",
    "    )\n",
    "    if is_baseline:\n",
    "        baseline_ndcg[task].append(score[1])\n",
    "        print(f'Task: {task} NDCG: {score[0]}')\n",
    "    else:\n",
    "        print(f'Task: {task} NDCG: {score[0]} (p-value: {score[2]})')"
   ]
  },
  {
   "cell_type": "code",
   "execution_count": null,
   "id": "a897122f65c609d2",
   "metadata": {
    "ExecuteTime": {
     "end_time": "2025-07-18T20:55:06.898978Z",
     "start_time": "2025-07-18T20:41:22.365344Z"
    }
   },
   "outputs": [],
   "source": []
  },
  {
   "cell_type": "code",
   "execution_count": null,
   "id": "7053d2fdb533d7d9",
   "metadata": {},
   "outputs": [],
   "source": []
  }
 ],
 "metadata": {
  "kernelspec": {
   "display_name": "Python 3",
   "language": "python",
   "name": "python3"
  },
  "language_info": {
   "codemirror_mode": {
    "name": "ipython",
    "version": 3
   },
   "file_extension": ".py",
   "mimetype": "text/x-python",
   "name": "python",
   "nbconvert_exporter": "python",
   "pygments_lexer": "ipython3",
   "version": "3.11.5"
  }
 },
 "nbformat": 4,
 "nbformat_minor": 5
}
