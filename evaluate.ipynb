{
 "cells": [
  {
   "cell_type": "code",
   "id": "initial_id",
   "metadata": {
    "collapsed": true,
    "ExecuteTime": {
     "end_time": "2025-07-18T05:09:34.378423Z",
     "start_time": "2025-07-18T05:09:31.130585Z"
    }
   },
   "source": [
    "from evaluator import SyntacticCalculator, MorphologicalCalculator, InventoryCalculator, PhonologicalCalculator, FeaturalCalculator, ScripturalCalculator, LangRankEvaluator\n",
    "syn = SyntacticCalculator('URIELPlus_Union.csv')\n",
    "morph = MorphologicalCalculator('URIELPlus_Union.csv')\n",
    "inv = InventoryCalculator('URIELPlus_Union.csv')\n",
    "phon = PhonologicalCalculator('URIELPlus_Union.csv')\n",
    "feat = FeaturalCalculator('URIELPlus_Union.csv')\n",
    "script = ScripturalCalculator('URIEL_Scriptural.csv')\n",
    "evaluator = LangRankEvaluator({\n",
    "    'syntactic': syn,\n",
    "    'morphological': morph,\n",
    "    'inventory': inv,\n",
    "    'phonological': phon,\n",
    "    'featural': feat,\n",
    "    'scriptural': script\n",
    "})"
   ],
   "outputs": [],
   "execution_count": 3
  },
  {
   "metadata": {},
   "cell_type": "code",
   "outputs": [],
   "execution_count": null,
   "source": [
    "features = ['syntactic', 'inventory', 'phonological', 'featural', 'morphological', 'scriptural']\n",
    "task = 'taxi1500'\n",
    "task_col_name = 'task_lang'\n",
    "transfer_col_name = 'transfer_lang'\n",
    "\n",
    "# replace/add distances in the `distance_types` columns of the dataset CSV using the corresponding calculators passed into the evaluator.\n",
    "evaluator.replace_distances(\n",
    "    dataset_path='{task}/{task}.csv', # path to the task dataset (the one containing columns for task lang, transfer lang, performance)\n",
    "    distance_types=features, # list of distance types to replace in the dataset. these should match the keys of the dict passed into the evaluator.\n",
    "    task_col_name=task_col_name, # name of the task language column in your dataset\n",
    "    transfer_col_name=transfer_col_name, # name of the transfer language column in your dataset\n",
    "    iso_conversion=False # indicate whether to convert lang codes in your dataset from ISO to Glottocode using the file in self.iso_map_file\n",
    ")\n"
   ],
   "id": "36756af4660b3500"
  },
  {
   "metadata": {},
   "cell_type": "code",
   "outputs": [],
   "execution_count": null,
   "source": [
    "# run LangRank and evaluate task performance\n",
    "evaluator.evaluate(\n",
    "    dataset_path=f'{task}/{task}_updated.csv',\n",
    "    features=features + ['geographic', 'genetic'], # list of columns in the dataset CSV to use for evaluation\n",
    "    performance_col_name='f1_score', # name of the column in the dataset CSV containing task performance scores\n",
    "    task_col_name=task_col_name,\n",
    "    transfer_col_name=transfer_col_name\n",
    ")"
   ],
   "id": "a490d628dbf7ec7a"
  },
  {
   "metadata": {},
   "cell_type": "code",
   "outputs": [],
   "execution_count": null,
   "source": "",
   "id": "1512e2e911b1a089"
  }
 ],
 "metadata": {
  "kernelspec": {
   "display_name": "Python 3",
   "language": "python",
   "name": "python3"
  },
  "language_info": {
   "codemirror_mode": {
    "name": "ipython",
    "version": 2
   },
   "file_extension": ".py",
   "mimetype": "text/x-python",
   "name": "python",
   "nbconvert_exporter": "python",
   "pygments_lexer": "ipython2",
   "version": "2.7.6"
  }
 },
 "nbformat": 4,
 "nbformat_minor": 5
}
