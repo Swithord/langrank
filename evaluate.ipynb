{
 "cells": [
  {
   "cell_type": "code",
   "id": "initial_id",
   "metadata": {
    "collapsed": true,
    "ExecuteTime": {
     "end_time": "2025-07-22T20:53:28.025499Z",
     "start_time": "2025-07-22T20:53:24.096536Z"
    }
   },
   "source": [
    "from evaluator import SyntacticCalculator, MorphologicalCalculator, InventoryCalculator, PhonologicalCalculator, FeaturalCalculator, ScripturalCalculator, LangRankEvaluator\n",
    "# typ_file = 'selection_result/imputed_laplacian_300.csv'\n",
    "typ_file = 'data/URIELPlus_Union.csv'\n",
    "syn = SyntacticCalculator(typ_file)\n",
    "morph = MorphologicalCalculator(typ_file)\n",
    "inv = InventoryCalculator(typ_file)\n",
    "phon = PhonologicalCalculator(typ_file)\n",
    "feat = FeaturalCalculator(typ_file)\n",
    "script = ScripturalCalculator('data/URIEL_Scriptural.csv')\n",
    "evaluator = LangRankEvaluator(\n",
    "    calculators={\n",
    "    'syntactic': syn,\n",
    "    'morphological': morph,\n",
    "    'inventory': inv,\n",
    "    'phonological': phon,\n",
    "    'featural': feat,\n",
    "    'scriptural': script\n",
    "    },\n",
    "    iso_map_file='data/code_mapping.csv', # path to the ISO to Glottocode mapping file\n",
    ")"
   ],
   "outputs": [],
   "execution_count": 13
  },
  {
   "metadata": {
    "ExecuteTime": {
     "end_time": "2025-07-22T20:56:03.357739Z",
     "start_time": "2025-07-22T20:53:29.454868Z"
    }
   },
   "cell_type": "code",
   "source": [
    "features = ['syntactic', 'inventory', 'phonological', 'featural']\n",
    "features += ['morphological']\n",
    "# features += ['scriptural']\n",
    "task_col_name = 'task_lang'\n",
    "transfer_col_name = 'transfer_lang'\n",
    "\n",
    "tasks = {\n",
    "    'mt': ('BLEU', True),\n",
    "    'dep': ('accuracy', True),\n",
    "    'el': ('accuracy', True),\n",
    "    'pos': ('accuracy', True),\n",
    "    'taxi1500': ('f1_score', False),\n",
    "}\n",
    "for task in tasks:\n",
    "    # replace/add distances in the `distance_types` columns of the dataset CSV using the corresponding calculators passed into the evaluator.\n",
    "    evaluator.replace_distances(\n",
    "        dataset_path=f'data/{task}.csv', # path to the task dataset (the one containing columns for task lang, transfer lang, performance)\n",
    "        distance_types=features, # list of distance types to replace in the dataset. these should match the keys of the dict passed into the evaluator.\n",
    "        task_col_name=task_col_name, # name of the task language column in your dataset\n",
    "        transfer_col_name=transfer_col_name, # name of the transfer language column in your dataset\n",
    "        iso_conversion=tasks[task][1] # indicate whether to convert lang codes in your dataset from ISO to Glottocode using the file in self.iso_map_file\n",
    "    )\n",
    "    # run LangRank and evaluate task performance\n",
    "    score = evaluator.evaluate(\n",
    "        dataset_path=f'data/{task}_updated.csv',\n",
    "        features=features + ['geographic', 'genetic'], # list of columns in the dataset CSV to use for evaluation\n",
    "        performance_col_name=tasks[task][0], # name of the column in the dataset CSV containing task performance scores\n",
    "        task_col_name=task_col_name,\n",
    "        transfer_col_name=transfer_col_name\n",
    "    )\n",
    "    print(f'Task: {task} NDCG: {score}')"
   ],
   "id": "a490d628dbf7ec7a",
   "outputs": [
    {
     "name": "stdout",
     "output_type": "stream",
     "text": [
      "Task: mt NDCG: 31.507795242646075\n",
      "Task: dep NDCG: 70.98819315587522\n",
      "Task: el NDCG: 67.23559357664477\n",
      "Task: pos NDCG: 26.49555731440469\n",
      "Task: taxi1500 NDCG: 21.765757909109226\n"
     ]
    }
   ],
   "execution_count": 14
  },
  {
   "metadata": {
    "ExecuteTime": {
     "end_time": "2025-07-18T20:55:06.898978Z",
     "start_time": "2025-07-18T20:41:22.365344Z"
    }
   },
   "cell_type": "code",
   "source": "",
   "id": "a897122f65c609d2",
   "outputs": [],
   "execution_count": null
  },
  {
   "metadata": {},
   "cell_type": "code",
   "outputs": [],
   "execution_count": null,
   "source": "",
   "id": "7053d2fdb533d7d9"
  }
 ],
 "metadata": {
  "kernelspec": {
   "display_name": "Python 3",
   "language": "python",
   "name": "python3"
  },
  "language_info": {
   "codemirror_mode": {
    "name": "ipython",
    "version": 2
   },
   "file_extension": ".py",
   "mimetype": "text/x-python",
   "name": "python",
   "nbconvert_exporter": "python",
   "pygments_lexer": "ipython2",
   "version": "2.7.6"
  }
 },
 "nbformat": 4,
 "nbformat_minor": 5
}
